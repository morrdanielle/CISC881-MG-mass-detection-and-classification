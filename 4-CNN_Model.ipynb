{
 "cells": [
  {
   "cell_type": "markdown",
   "metadata": {},
   "source": [
    "### Load packages and arrays"
   ]
  },
  {
   "cell_type": "code",
   "execution_count": 1,
   "metadata": {},
   "outputs": [],
   "source": [
    "import numpy as np\n",
    "import os\n",
    "import matplotlib.pyplot as plt\n",
    "from sklearn.model_selection import train_test_split\n",
    "from sklearn.metrics import confusion_matrix"
   ]
  },
  {
   "cell_type": "code",
   "execution_count": 2,
   "metadata": {},
   "outputs": [],
   "source": [
    "image_array = np.load('/Users/Danielle/Documents/Arrays/image_array.npy')\n",
    "label_array = np.load('/Users/Danielle/Documents/Arrays/pathology_array.npy')"
   ]
  },
  {
   "cell_type": "markdown",
   "metadata": {},
   "source": [
    "### Split into training (75%) and test (25%) datasets"
   ]
  },
  {
   "cell_type": "code",
   "execution_count": 3,
   "metadata": {},
   "outputs": [
    {
     "name": "stdout",
     "output_type": "stream",
     "text": [
      "(18572, 32, 32) (18572, 1)\n",
      "(6191, 32, 32) (6191, 1)\n"
     ]
    }
   ],
   "source": [
    "#split using train_test_split function\n",
    "x_train, x_test, y_train, y_test = train_test_split(image_array, label_array, test_size=0.25)\n",
    "\n",
    "print(x_train.shape, y_train.shape)\n",
    "print(x_test.shape, y_test.shape)"
   ]
  },
  {
   "cell_type": "code",
   "execution_count": 4,
   "metadata": {},
   "outputs": [],
   "source": [
    "#change and define input shape\n",
    "x_train = x_train.reshape(x_train.shape[0], 32, 32,1)\n",
    "x_test = x_test.reshape(x_test.shape[0], 32, 32,1)\n",
    "input_shape = (32, 32, 1)"
   ]
  },
  {
   "cell_type": "markdown",
   "metadata": {},
   "source": [
    "### Create model"
   ]
  },
  {
   "cell_type": "code",
   "execution_count": 5,
   "metadata": {},
   "outputs": [],
   "source": [
    "#access virtual environment with tensorflow\n",
    "os.environ[\"/Users/Danielle/anaconda3/envs/tensorflow\"] = \"1\""
   ]
  },
  {
   "cell_type": "code",
   "execution_count": 6,
   "metadata": {},
   "outputs": [],
   "source": [
    "#load tensorflow packages/functions\n",
    "from tensorflow import keras\n",
    "from tensorflow.keras.datasets import mnist\n",
    "from tensorflow.keras.models import Sequential\n",
    "from tensorflow.keras.layers import Dense, Dropout, Flatten\n",
    "from tensorflow.keras.layers import Conv2D, MaxPooling2D\n",
    "from tensorflow.keras import backend as K"
   ]
  },
  {
   "cell_type": "code",
   "execution_count": 7,
   "metadata": {
    "scrolled": true
   },
   "outputs": [],
   "source": [
    "#create model\n",
    "model = Sequential()\n",
    "model.add(Conv2D(32, kernel_size=(5, 5), strides=(1, 1), activation='relu',input_shape=input_shape)) #input\n",
    "model.add(MaxPooling2D(pool_size=(2, 2)))\n",
    "model.add(Conv2D(64, kernel_size=(3, 3), activation='relu'))\n",
    "model.add(MaxPooling2D(pool_size=(2, 2)))\n",
    "model.add(Conv2D(128, kernel_size=(3, 3), activation='relu'))\n",
    "model.add(Flatten())\n",
    "model.add(Dense(128, activation='relu'))\n",
    "model.add(Dense(1, activation='sigmoid')) #output"
   ]
  },
  {
   "cell_type": "code",
   "execution_count": 8,
   "metadata": {},
   "outputs": [],
   "source": [
    "#configure model for training\n",
    "model.compile(loss=keras.losses.binary_crossentropy,\n",
    "              optimizer=keras.optimizers.Adamax(),\n",
    "              metrics=['accuracy'])"
   ]
  },
  {
   "cell_type": "markdown",
   "metadata": {},
   "source": [
    "### Model training"
   ]
  },
  {
   "cell_type": "code",
   "execution_count": 9,
   "metadata": {
    "scrolled": true
   },
   "outputs": [
    {
     "name": "stdout",
     "output_type": "stream",
     "text": [
      "Train on 15786 samples, validate on 2786 samples\n",
      "Epoch 1/10\n",
      "15786/15786 [==============================] - 31s 2ms/step - loss: 0.6608 - acc: 0.5914 - val_loss: 0.5891 - val_acc: 0.6841\n",
      "Epoch 2/10\n",
      "15786/15786 [==============================] - 25s 2ms/step - loss: 0.4612 - acc: 0.7882 - val_loss: 0.4328 - val_acc: 0.8112\n",
      "Epoch 3/10\n",
      "15786/15786 [==============================] - 27s 2ms/step - loss: 0.2829 - acc: 0.8945 - val_loss: 0.3088 - val_acc: 0.8841\n",
      "Epoch 4/10\n",
      "15786/15786 [==============================] - 26s 2ms/step - loss: 0.1988 - acc: 0.9270 - val_loss: 0.3214 - val_acc: 0.8948\n",
      "Epoch 5/10\n",
      "15786/15786 [==============================] - 25s 2ms/step - loss: 0.1389 - acc: 0.9503 - val_loss: 0.2884 - val_acc: 0.8991\n",
      "Epoch 6/10\n",
      "15786/15786 [==============================] - 24s 2ms/step - loss: 0.1014 - acc: 0.9619 - val_loss: 0.3321 - val_acc: 0.8920\n",
      "Epoch 7/10\n",
      "15786/15786 [==============================] - 24s 2ms/step - loss: 0.0730 - acc: 0.9723 - val_loss: 0.3528 - val_acc: 0.8991\n",
      "Epoch 8/10\n",
      "15786/15786 [==============================] - 25s 2ms/step - loss: 0.0516 - acc: 0.9815 - val_loss: 0.3928 - val_acc: 0.9009\n",
      "Epoch 9/10\n",
      "15786/15786 [==============================] - 26s 2ms/step - loss: 0.0343 - acc: 0.9883 - val_loss: 0.4468 - val_acc: 0.8981\n",
      "Epoch 10/10\n",
      "15786/15786 [==============================] - 24s 2ms/step - loss: 0.0267 - acc: 0.9909 - val_loss: 0.4715 - val_acc: 0.8991\n"
     ]
    }
   ],
   "source": [
    "#fit model\n",
    "train_score = model.fit(x_train, y_train,\n",
    "          epochs=10,\n",
    "          verbose=1,\n",
    "          validation_split=0.15) #ensure validation set created (15% of training set)"
   ]
  },
  {
   "cell_type": "markdown",
   "metadata": {},
   "source": [
    "### Model Results"
   ]
  },
  {
   "cell_type": "code",
   "execution_count": 10,
   "metadata": {},
   "outputs": [
    {
     "name": "stdout",
     "output_type": "stream",
     "text": [
      "Test loss: 0.46904170653957133\n",
      "Test accuracy: 0.9014698756355362\n"
     ]
    }
   ],
   "source": [
    "#evaluate test accuracy\n",
    "score = model.evaluate(x_test, y_test, verbose=0)\n",
    "print('Test loss:', score[0])\n",
    "print('Test accuracy:', score[1])"
   ]
  },
  {
   "cell_type": "code",
   "execution_count": 11,
   "metadata": {},
   "outputs": [],
   "source": [
    "#predict labels\n",
    "predictions = model.predict(x_test)\n",
    "\n",
    "#Save arrays for plotting later\n",
    "np.save(\"/Users/Danielle/Documents/Arrays/predicted\", predictions)\n",
    "np.save(\"/Users/Danielle/Documents/Arrays/test_labels\", y_test)"
   ]
  },
  {
   "cell_type": "code",
   "execution_count": 12,
   "metadata": {},
   "outputs": [
    {
     "name": "stdout",
     "output_type": "stream",
     "text": [
      "sensitivity 0.8981302385557705\n",
      "specificity 0.904823567497572\n",
      "confusion matrix [[2786  316]\n",
      " [ 294 2795]]\n"
     ]
    }
   ],
   "source": [
    "#confusion matrix\n",
    "predictions = np.where(predictions>0.5, 1, 0) #threshold predicted values > 0.5 <\n",
    "c = confusion_matrix(y_test, predictions)\n",
    "print('sensitivity', c[0, 0] / (c[0, 1] + c[0, 0]))\n",
    "print('specificity', c[1, 1] / (c[1, 1] + c[1, 0]))\n",
    "print('confusion matrix', c)"
   ]
  },
  {
   "cell_type": "markdown",
   "metadata": {},
   "source": [
    "### Model Summary"
   ]
  },
  {
   "cell_type": "code",
   "execution_count": 13,
   "metadata": {},
   "outputs": [
    {
     "name": "stdout",
     "output_type": "stream",
     "text": [
      "_________________________________________________________________\n",
      "Layer (type)                 Output Shape              Param #   \n",
      "=================================================================\n",
      "conv2d (Conv2D)              (None, 28, 28, 32)        832       \n",
      "_________________________________________________________________\n",
      "max_pooling2d (MaxPooling2D) (None, 14, 14, 32)        0         \n",
      "_________________________________________________________________\n",
      "conv2d_1 (Conv2D)            (None, 12, 12, 64)        18496     \n",
      "_________________________________________________________________\n",
      "max_pooling2d_1 (MaxPooling2 (None, 6, 6, 64)          0         \n",
      "_________________________________________________________________\n",
      "conv2d_2 (Conv2D)            (None, 4, 4, 128)         73856     \n",
      "_________________________________________________________________\n",
      "flatten (Flatten)            (None, 2048)              0         \n",
      "_________________________________________________________________\n",
      "dense (Dense)                (None, 128)               262272    \n",
      "_________________________________________________________________\n",
      "dense_1 (Dense)              (None, 1)                 129       \n",
      "=================================================================\n",
      "Total params: 355,585\n",
      "Trainable params: 355,585\n",
      "Non-trainable params: 0\n",
      "_________________________________________________________________\n",
      "None\n"
     ]
    }
   ],
   "source": [
    "print(model.summary()) #to use in model architecture diagram"
   ]
  }
 ],
 "metadata": {
  "kernelspec": {
   "display_name": "Python 3",
   "language": "python",
   "name": "python3"
  },
  "language_info": {
   "codemirror_mode": {
    "name": "ipython",
    "version": 3
   },
   "file_extension": ".py",
   "mimetype": "text/x-python",
   "name": "python",
   "nbconvert_exporter": "python",
   "pygments_lexer": "ipython3",
   "version": "3.6.6"
  }
 },
 "nbformat": 4,
 "nbformat_minor": 2
}
